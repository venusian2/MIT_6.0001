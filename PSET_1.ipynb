{
 "cells": [
  {
   "cell_type": "code",
   "execution_count": 40,
   "metadata": {},
   "outputs": [],
   "source": [
    "def PartA():\n",
    "    annual_salary = float(input('Please enter your yearly salary: '))\n",
    "    portion_saved = float(input('Please enter the percent of yearly salary youd like to save: '))\n",
    "    total_cost = float(input('What is the cost your dream home: '))\n",
    "    \n",
    "    portion_down_payment = 0.25\n",
    "    down_payment = portion_down_payment*total_cost\n",
    "    monthly_salary = annual_salary/12\n",
    "    r = 0.04\n",
    "    current_savings = 0\n",
    "    \n",
    "    i = 0\n",
    "    while current_savings < down_payment:\n",
    "        investment = current_savings*r/12\n",
    "        current_savings += (monthly_salary*portion_saved) + investment\n",
    "        i+=1\n",
    "    \n",
    "    return print('{} months'.format(i))"
   ]
  },
  {
   "cell_type": "code",
   "execution_count": 37,
   "metadata": {},
   "outputs": [
    {
     "name": "stdout",
     "output_type": "stream",
     "text": [
      "Please enter your yearly salary: 80000\n",
      "Please enter the percent of yearly salary youd like to save: .15\n",
      "What is the cost your dream home: 500000\n",
      "105 months\n"
     ]
    }
   ],
   "source": [
    "PartA()"
   ]
  },
  {
   "cell_type": "code",
   "execution_count": 63,
   "metadata": {},
   "outputs": [],
   "source": [
    "def PartB():\n",
    "    annual_salary = float(input('Please enter your yearly salary: '))\n",
    "    portion_saved = float(input('Please enter the percent of yearly salary youd like to save: '))\n",
    "    total_cost = float(input('What is the cost your dream home: '))\n",
    "    semi_annual_raise = float(input('Please enter your raise percentage: '))\n",
    "    \n",
    "    portion_down_payment = 0.25\n",
    "    down_payment = portion_down_payment*total_cost\n",
    "    monthly_salary = annual_salary/12\n",
    "    r = 0.04\n",
    "    current_savings = 0\n",
    "    \n",
    "    i = 0\n",
    "    while current_savings < down_payment:\n",
    "        investment = current_savings*r/12\n",
    "        current_savings += (monthly_salary*portion_saved) + investment\n",
    "        i+=1\n",
    "        if i%6 == 0:\n",
    "            annual_salary *= (semi_annual_raise+1)\n",
    "            monthly_salary = annual_salary/12\n",
    "            \n",
    "    \n",
    "    return print('{} months'.format(i))"
   ]
  },
  {
   "cell_type": "code",
   "execution_count": 64,
   "metadata": {},
   "outputs": [
    {
     "name": "stdout",
     "output_type": "stream",
     "text": [
      "Please enter your yearly salary: 80000\n",
      "Please enter the percent of yearly salary youd like to save: .1\n",
      "What is the cost your dream home: 800000\n",
      "Please enter your raise percentage: .03\n",
      "159 months\n"
     ]
    }
   ],
   "source": [
    "PartB()"
   ]
  },
  {
   "cell_type": "code",
   "execution_count": 32,
   "metadata": {},
   "outputs": [],
   "source": [
    "def PartC():\n",
    "    # request annual salary\n",
    "    annual_salary = float(input('Please enter your yearly salary: ')) \n",
    "    \n",
    "    # intialize starting conditions\n",
    "    total_cost = 1000000 \n",
    "    portion_down_payment = 0.25\n",
    "    down_payment = portion_down_payment*total_cost\n",
    "    \n",
    "    epsilon = 100\n",
    "    high = 10000\n",
    "    low = 0\n",
    "    \n",
    "    \n",
    "    def months(bi, salary):\n",
    "        \n",
    "        #initial conditions\n",
    "        starting_salary = salary\n",
    "        current_savings = 0\n",
    "        r = 0.04\n",
    "        semi_annual_raise = 0.07\n",
    "        monthly_salary = starting_salary/12\n",
    "        percent_saved = bi/10000\n",
    "        \n",
    "        for m in range(36):\n",
    "            investment = current_savings*r/12\n",
    "            current_savings += (monthly_salary*percent_saved) + investment\n",
    "            m+=1\n",
    "            if m%6 == 0:\n",
    "                starting_salary *= (semi_annual_raise+1)\n",
    "                monthly_salary = starting_salary/12\n",
    "        \n",
    "        return current_savings\n",
    "        \n",
    "        \n",
    "    steps = 0    \n",
    "    \n",
    "    while (high - low) > 1:\n",
    "        \n",
    "        steps +=1\n",
    "        \n",
    "        #set initial portion saved\n",
    "        bisection = int((high+low)/2)\n",
    "        \n",
    "        savings = months(bisection,annual_salary)\n",
    "        \n",
    "        if abs(savings-down_payment) < epsilon:\n",
    "            return print('Best savings rate: {}\\nSteps in bisection search: {}'.format((bisection/10000), steps))\n",
    "        else:\n",
    "            if savings < down_payment:\n",
    "                low = bisection\n",
    "            else:\n",
    "                high = bisection\n",
    "    \n",
    "    return print('It is not possible to pay the down payment in three years.')\n",
    "    \n",
    "    "
   ]
  },
  {
   "cell_type": "code",
   "execution_count": 33,
   "metadata": {},
   "outputs": [
    {
     "name": "stdout",
     "output_type": "stream",
     "text": [
      "Please enter your yearly salary: 10000\n",
      "It is not possible to pay the down payment in three years.\n"
     ]
    }
   ],
   "source": [
    "PartC()"
   ]
  },
  {
   "cell_type": "code",
   "execution_count": null,
   "metadata": {},
   "outputs": [],
   "source": []
  }
 ],
 "metadata": {
  "kernelspec": {
   "display_name": "Python 3",
   "language": "python",
   "name": "python3"
  },
  "language_info": {
   "codemirror_mode": {
    "name": "ipython",
    "version": 3
   },
   "file_extension": ".py",
   "mimetype": "text/x-python",
   "name": "python",
   "nbconvert_exporter": "python",
   "pygments_lexer": "ipython3",
   "version": "3.7.6"
  }
 },
 "nbformat": 4,
 "nbformat_minor": 4
}
