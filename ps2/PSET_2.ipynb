{
 "cells": [
  {
   "cell_type": "markdown",
   "metadata": {},
   "source": [
    "## Problem 1"
   ]
  },
  {
   "cell_type": "code",
   "execution_count": 80,
   "metadata": {},
   "outputs": [],
   "source": [
    "from hangman import *"
   ]
  },
  {
   "cell_type": "code",
   "execution_count": 81,
   "metadata": {},
   "outputs": [
    {
     "data": {
      "text/plain": [
       "'mover'"
      ]
     },
     "execution_count": 81,
     "metadata": {},
     "output_type": "execute_result"
    }
   ],
   "source": [
    "choose_word(wordlist)"
   ]
  },
  {
   "cell_type": "markdown",
   "metadata": {},
   "source": [
    "## Problem 2"
   ]
  },
  {
   "cell_type": "code",
   "execution_count": 82,
   "metadata": {},
   "outputs": [],
   "source": [
    "def is_word_guessed(secret_word, letters_guessed):\n",
    "    '''\n",
    "    secret_word: string, the word the user is guessing; assumes all letters are\n",
    "      lowercase\n",
    "    letters_guessed: list (of letters), which letters have been guessed so far;\n",
    "      assumes that all letters are lowercase\n",
    "    returns: boolean, True if all the letters of secret_word are in letters_guessed;\n",
    "      False otherwise\n",
    "    '''\n",
    "    word = list(set(secret_word))\n",
    "    man = 0\n",
    "    \n",
    "    for letter in letters_guessed:\n",
    "        if letter in word:\n",
    "            man+=1\n",
    "    \n",
    "    if man == len(word):\n",
    "        return True\n",
    "    else:\n",
    "        return False\n",
    "            "
   ]
  },
  {
   "cell_type": "code",
   "execution_count": 83,
   "metadata": {},
   "outputs": [],
   "source": [
    "secret_word = 'apple'"
   ]
  },
  {
   "cell_type": "code",
   "execution_count": 84,
   "metadata": {},
   "outputs": [],
   "source": [
    "letters_guessed = []"
   ]
  },
  {
   "cell_type": "code",
   "execution_count": 85,
   "metadata": {},
   "outputs": [
    {
     "name": "stdout",
     "output_type": "stream",
     "text": [
      "False\n"
     ]
    }
   ],
   "source": [
    "print(is_word_guessed(secret_word, letters_guessed))"
   ]
  },
  {
   "cell_type": "code",
   "execution_count": 86,
   "metadata": {},
   "outputs": [],
   "source": [
    "def get_guessed_word(secret_word, letters_guessed):\n",
    "    '''\n",
    "    secret_word: string, the word the user is guessing\n",
    "    letters_guessed: list (of letters), which letters have been guessed so far\n",
    "    returns: string, comprised of letters, underscores (_), and spaces that represents\n",
    "      which letters in secret_word have been guessed so far.\n",
    "    '''\n",
    "    word = secret_word[:]\n",
    "    \n",
    "    for letter in secret_word:\n",
    "        if letter in letters_guessed:\n",
    "            continue\n",
    "        else: \n",
    "            word = word.replace(letter, '_ ')\n",
    "    \n",
    "    return word"
   ]
  },
  {
   "cell_type": "code",
   "execution_count": 87,
   "metadata": {},
   "outputs": [
    {
     "data": {
      "text/plain": [
       "'_ _ _ _ _ '"
      ]
     },
     "execution_count": 87,
     "metadata": {},
     "output_type": "execute_result"
    }
   ],
   "source": [
    "get_guessed_word(secret_word, letters_guessed)"
   ]
  },
  {
   "cell_type": "code",
   "execution_count": 88,
   "metadata": {},
   "outputs": [],
   "source": [
    "def get_available_letters(letters_guessed):\n",
    "    '''\n",
    "    letters_guessed: list (of letters), which letters have been guessed so far\n",
    "    returns: string (of letters), comprised of letters that represents which letters have not\n",
    "      yet been guessed.\n",
    "    '''\n",
    "    import string\n",
    "    lowercase = string.ascii_lowercase\n",
    "    \n",
    "    for letter in lowercase:\n",
    "        if letter in letters_guessed:\n",
    "            lowercase = lowercase.replace(letter, '')\n",
    "    \n",
    "    return lowercase"
   ]
  },
  {
   "cell_type": "code",
   "execution_count": 89,
   "metadata": {},
   "outputs": [
    {
     "data": {
      "text/plain": [
       "'abcdefghijklmnopqrstuvwxyz'"
      ]
     },
     "execution_count": 89,
     "metadata": {},
     "output_type": "execute_result"
    }
   ],
   "source": [
    "get_available_letters(letters_guessed)"
   ]
  },
  {
   "cell_type": "markdown",
   "metadata": {},
   "source": [
    "## Problem 3"
   ]
  },
  {
   "cell_type": "code",
   "execution_count": 90,
   "metadata": {},
   "outputs": [],
   "source": [
    "def hangman(secret_word):\n",
    "    '''\n",
    "    secret_word: string, the secret word to guess.\n",
    "    \n",
    "    Starts up an interactive game of Hangman.\n",
    "    \n",
    "    * At the start of the game, let the user know how many \n",
    "      letters the secret_word contains and how many guesses s/he starts with.\n",
    "      \n",
    "    * The user should start with 6 guesses\n",
    "\n",
    "    * Before each round, you should display to the user how many guesses\n",
    "      s/he has left and the letters that the user has not yet guessed.\n",
    "    \n",
    "    * Ask the user to supply one guess per round. Remember to make\n",
    "      sure that the user puts in a letter!\n",
    "    \n",
    "    * The user should receive feedback immediately after each guess \n",
    "      about whether their guess appears in the computer's word.\n",
    "\n",
    "    * After each guess, you should display to the user the \n",
    "      partially guessed word so far.\n",
    "    \n",
    "    Follows the other limitations detailed in the problem write-up.\n",
    "    '''\n",
    "    import string\n",
    "    letters_guessed = []\n",
    "    guesses = 6\n",
    "    warnings = 3\n",
    "    vowels = ['a', 'e', 'i' , 'o', 'u']\n",
    "    \n",
    "    \n",
    "    print('Welcome to the game Hangman!')\n",
    "    print('I am thinking of a word that is {} letters long'.format(len(secret_word)))\n",
    "    \n",
    "    while is_word_guessed(secret_word, letters_guessed) == False:\n",
    "        \n",
    "        print('----------------------------')\n",
    "        print('You have {} guesses left'.format(guesses))\n",
    "        print('Available letters: {}'.format(get_available_letters(letters_guessed)))\n",
    "        guess = input('Please guess a letter: ').lower()\n",
    "\n",
    "        \n",
    "        if guess in letters_guessed:\n",
    "            warnings -= 1\n",
    "            if warnings < 0:\n",
    "                guesses -= 1\n",
    "                print(\"Oops! You've already guessed that letter. You have no warnings left so you lose one guess: {}\".format(get_guessed_word(secret_word, letters_guessed)))\n",
    "            else:\n",
    "                print(\"Oops! You've already guessed that letter. You have {} warnings left: {}\".format(warnings, get_guessed_word(secret_word, letters_guessed)))\n",
    "        elif guess not in string.ascii_lowercase:\n",
    "            warnings -= 1\n",
    "            if warnings < 0:\n",
    "                guesses -= 1\n",
    "                print(\"Oops! That is not a valid letter. You have no warnings left so you lose one guess: {}\".format(get_guessed_word(secret_word, letters_guessed)))\n",
    "            else:\n",
    "                print('Oops! That is not a valid letter. You have {} warnings left: {}'.format(warnings, get_guessed_word(secret_word, letters_guessed)))\n",
    "        elif guess not in secret_word:\n",
    "            letters_guessed.append(guess)\n",
    "            if guess in vowels:\n",
    "                guesses -= 2\n",
    "            else:\n",
    "                guesses -=1\n",
    "            print('Oops! That letter is not in my word: {}'.format(get_guessed_word(secret_word, letters_guessed)))\n",
    "\n",
    "        else:    \n",
    "            letters_guessed.append(guess)\n",
    "            print('Good guess: {}'.format(get_guessed_word(secret_word, letters_guessed)))\n",
    "\n",
    "        if guesses < 1:\n",
    "            print('----------------------------')\n",
    "            return print('Sorry, you ran out of guesses. The word was {}'.format(secret_word))\n",
    "    \n",
    "    print('Congratulations, you won!')\n",
    "    return print('Your total score for this game is: {}'.format(guesses*(len(set(secret_word)))))    "
   ]
  },
  {
   "cell_type": "code",
   "execution_count": 91,
   "metadata": {},
   "outputs": [
    {
     "name": "stdout",
     "output_type": "stream",
     "text": [
      "Welcome to the game Hangman!\n",
      "I am thinking of a word that is 6 letters long\n",
      "----------------------------\n",
      "You have 6 guesses left\n",
      "Available letters: abcdefghijklmnopqrstuvwxyz\n",
      "Please guess a letter: a\n",
      "Good guess: a_ _ _ _ _ \n",
      "----------------------------\n",
      "You have 6 guesses left\n",
      "Available letters: bcdefghijklmnopqrstuvwxyz\n",
      "Please guess a letter: p\n",
      "Oops! That letter is not in my word: a_ _ _ _ _ \n",
      "----------------------------\n",
      "You have 5 guesses left\n",
      "Available letters: bcdefghijklmnoqrstuvwxyz\n",
      "Please guess a letter: t\n",
      "Good guess: a_ t_ _ _ \n",
      "----------------------------\n",
      "You have 5 guesses left\n",
      "Available letters: bcdefghijklmnoqrsuvwxyz\n",
      "Please guess a letter: n\n",
      "Oops! That letter is not in my word: a_ t_ _ _ \n",
      "----------------------------\n",
      "You have 4 guesses left\n",
      "Available letters: bcdefghijklmoqrsuvwxyz\n",
      "Please guess a letter: r\n",
      "Good guess: art_ r_ \n",
      "----------------------------\n",
      "You have 4 guesses left\n",
      "Available letters: bcdefghijklmoqsuvwxyz\n",
      "Please guess a letter: i\n",
      "Oops! That letter is not in my word: art_ r_ \n",
      "----------------------------\n",
      "You have 2 guesses left\n",
      "Available letters: bcdefghjklmoqsuvwxyz\n",
      "Please guess a letter: u\n",
      "Oops! That letter is not in my word: art_ r_ \n",
      "----------------------------\n",
      "Sorry, you ran out of guesses. The word was artery\n"
     ]
    }
   ],
   "source": [
    "secret_word = choose_word(wordlist)\n",
    "hangman(secret_word)"
   ]
  },
  {
   "cell_type": "code",
   "execution_count": null,
   "metadata": {},
   "outputs": [],
   "source": []
  },
  {
   "cell_type": "code",
   "execution_count": 68,
   "metadata": {},
   "outputs": [],
   "source": [
    "def gap_match(my_word, other_word):\n",
    "    \n",
    "    my_word = my_word.replace('_ ', ' ')\n",
    "    \n",
    "    if len(other_word) != len(my_word):\n",
    "        return False\n",
    "    \n",
    "    set1 = set(my_word)\n",
    "    \n",
    "    i = 0\n",
    "    for letter in my_word:\n",
    "        if letter == ' ':\n",
    "            if other_word[i] in set1:\n",
    "                return False\n",
    "            else:\n",
    "                i+=1\n",
    "        elif letter != other_word[i]:\n",
    "            return False\n",
    "        else:\n",
    "            i+=1\n",
    "    \n",
    "    return True\n",
    "            \n",
    "            \n",
    "        \n",
    "    \n",
    "    "
   ]
  },
  {
   "cell_type": "code",
   "execution_count": 69,
   "metadata": {},
   "outputs": [
    {
     "data": {
      "text/plain": [
       "False"
      ]
     },
     "execution_count": 69,
     "metadata": {},
     "output_type": "execute_result"
    }
   ],
   "source": [
    "gap_match('a_ ple', 'apple')"
   ]
  },
  {
   "cell_type": "code",
   "execution_count": 70,
   "metadata": {},
   "outputs": [],
   "source": [
    "def show_matches(guess):\n",
    "    wordlist = load_words()\n",
    "    \n",
    "    p_matches = []\n",
    "    \n",
    "    for word in wordlist:\n",
    "        if gap_match(guess,word):\n",
    "            p_matches.append(word)\n",
    "    \n",
    "    return p_matches"
   ]
  },
  {
   "cell_type": "code",
   "execution_count": 72,
   "metadata": {},
   "outputs": [
    {
     "name": "stdout",
     "output_type": "stream",
     "text": [
      "Loading word list from file...\n",
      "   55900 words loaded.\n"
     ]
    },
    {
     "data": {
      "text/plain": [
       "['carnivore']"
      ]
     },
     "execution_count": 72,
     "metadata": {},
     "output_type": "execute_result"
    }
   ],
   "source": [
    "show_matches('c_ rnivore')"
   ]
  },
  {
   "cell_type": "code",
   "execution_count": null,
   "metadata": {},
   "outputs": [],
   "source": []
  },
  {
   "cell_type": "code",
   "execution_count": 93,
   "metadata": {},
   "outputs": [],
   "source": [
    "def hangman_with_hints(secret_word):\n",
    "    '''\n",
    "    secret_word: string, the secret word to guess.\n",
    "    \n",
    "    Starts up an interactive game of Hangman.\n",
    "    \n",
    "    * At the start of the game, let the user know how many \n",
    "      letters the secret_word contains and how many guesses s/he starts with.\n",
    "      \n",
    "    * The user should start with 6 guesses\n",
    "\n",
    "    * Before each round, you should display to the user how many guesses\n",
    "      s/he has left and the letters that the user has not yet guessed.\n",
    "    \n",
    "    * Ask the user to supply one guess per round. Remember to make\n",
    "      sure that the user puts in a letter!\n",
    "    \n",
    "    * The user should receive feedback immediately after each guess \n",
    "      about whether their guess appears in the computer's word.\n",
    "\n",
    "    * After each guess, you should display to the user the \n",
    "      partially guessed word so far.\n",
    "    \n",
    "    Follows the other limitations detailed in the problem write-up.\n",
    "    '''\n",
    "    import string\n",
    "    letters_guessed = []\n",
    "    guesses = 6\n",
    "    warnings = 3\n",
    "    vowels = ['a', 'e', 'i' , 'o', 'u']\n",
    "    \n",
    "    \n",
    "    print('Welcome to the game Hangman!')\n",
    "    print('I am thinking of a word that is {} letters long'.format(len(secret_word)))\n",
    "    \n",
    "    while is_word_guessed(secret_word, letters_guessed) == False:\n",
    "        \n",
    "        print('----------------------------')\n",
    "        print('You have {} guesses left'.format(guesses))\n",
    "        print('Available letters: {}'.format(get_available_letters(letters_guessed)))\n",
    "        guess = input('Please guess a letter: ').lower()\n",
    "\n",
    "        if guess == '*':\n",
    "            possible = show_matches(get_guessed_word(secret_word, letters_guessed))\n",
    "            print('Possible word matches are:')\n",
    "            print(' '.join(possible))\n",
    "        elif guess in letters_guessed:\n",
    "            warnings -= 1\n",
    "            if warnings < 0:\n",
    "                guesses -= 1\n",
    "                print(\"Oops! You've already guessed that letter. You have no warnings left so you lose one guess: {}\".format(get_guessed_word(secret_word, letters_guessed)))\n",
    "            else:\n",
    "                print(\"Oops! You've already guessed that letter. You have {} warnings left: {}\".format(warnings, get_guessed_word(secret_word, letters_guessed)))\n",
    "        elif guess not in string.ascii_lowercase:\n",
    "            warnings -= 1\n",
    "            if warnings < 0:\n",
    "                guesses -= 1\n",
    "                print(\"Oops! That is not a valid letter. You have no warnings left so you lose one guess: {}\".format(get_guessed_word(secret_word, letters_guessed)))\n",
    "            else:\n",
    "                print('Oops! That is not a valid letter. You have {} warnings left: {}'.format(warnings, get_guessed_word(secret_word, letters_guessed)))\n",
    "        elif guess not in secret_word:\n",
    "            letters_guessed.append(guess)\n",
    "            if guess in vowels:\n",
    "                guesses -= 2\n",
    "            else:\n",
    "                guesses -=1\n",
    "            print('Oops! That letter is not in my word: {}'.format(get_guessed_word(secret_word, letters_guessed)))\n",
    "\n",
    "        else:    \n",
    "            letters_guessed.append(guess)\n",
    "            print('Good guess: {}'.format(get_guessed_word(secret_word, letters_guessed)))\n",
    "\n",
    "        if guesses < 1:\n",
    "            print('----------------------------')\n",
    "            return print('Sorry, you ran out of guesses. The word was {}'.format(secret_word))\n",
    "    \n",
    "    print('Congratulations, you won!')\n",
    "    return print('Your total score for this game is: {}'.format(guesses*(len(set(secret_word)))))    "
   ]
  },
  {
   "cell_type": "code",
   "execution_count": 94,
   "metadata": {},
   "outputs": [
    {
     "name": "stdout",
     "output_type": "stream",
     "text": [
      "Welcome to the game Hangman!\n",
      "I am thinking of a word that is 9 letters long\n",
      "----------------------------\n",
      "You have 6 guesses left\n",
      "Available letters: abcdefghijklmnopqrstuvwxyz\n",
      "Please guess a letter: b\n",
      "Good guess: b_ _ _ _ _ _ _ _ \n",
      "----------------------------\n",
      "You have 6 guesses left\n",
      "Available letters: acdefghijklmnopqrstuvwxyz\n",
      "Please guess a letter: *\n",
      "Loading word list from file...\n",
      "   55900 words loaded.\n",
      "Possible word matches are:\n",
      "baccarats bacchanal bachelors bacillary backaches backdrops backfield backfired backfires backhands backorder backpacks backrests backsides backslash backslide backspace backspins backstage backstops backtrack backwards backwater backwoods backyards bacterial bacterium badgering badinages badminton badmouths bagatelle bagginess bagpipers baguettes bahamians bailiwick balalaika balancing balconies baldachin baldpates balkiness balladeer ballerina ballistic ballooned balloting ballrooms ballyhoos balminess baltimore balusters bandaging bandannas banderole bandicoot bandoleer bandstand bandwagon banishing banisters banjoists bankrolls bankrupts bannering banqueted banquette bantering baptismal baptizing barcarole barefaced bargained baritones barkeeper barnacles barnstorm barnyards barograph barometer barometry barouches barracuda barraging barreling barrettes barricade barrister bartender basements bashfully basically basilicas basilisks bassinets basswoods bastinado bathhouse batholith bathrooms battalion battening battering batteries bawdiness bayoneted beachhead beanpoles beanstalk beardless bearnaise bearskins beastlier beatified beatifies beatitude beauteous beautiful becalming beckoning beclouded becomings bedazzled bedazzles bedecking bedeviled bedfellow bedizened bedraggle bedridden bedspring bedspread bedsteads beechnuts beefiness beefsteak beekeeper befalling befitting befogging befouling befriends befuddled befuddles begetting begetters beggaring beginning beginners begirding begriming begrudged begrudges beguiling beguilers behaviors beheading behemoths beholding beholders behooving bejeweled belatedly beleaguer believing believers belittled belittles bellicose bellowing bellyache belonging belvedere bemoaning benchmark benefices benefited benighted benignity benignant benthoses benzoates bequeaths berceuses bereaving bergamots berkelium bernoulli beryllium beseeched beseeches beseeming besetting besieging besmeared besotting bespangle bespatter bespreads bestirred bestowing bestowals bestrewed bestrides betatrons bethought betokened betraying betrayers betrayals betrothal betrothed bettering beverages bewailing bewilders bewitched bewitches biathlons bicameral bickering biconcave bicuspids bicycling bicyclist bidentate biennials bifurcate bigamists bigotries bilateral bilingual billeting billfolds billhooks billiards billionth billowing bimonthly binderies bindweeds binnacles binocular binomials bioassays biography biologies biologist biorhythm biosphere bipartite birdcalls birdhouse birdlimes birdseeds birthdays birthmark birthrate bisecting bisection bisectors bisexuals bishopric bisulfate bitchiest bitterest bivalence bivalency bivalents bivouacks blackness blackcaps blackdamp blackened blackhead blackjack blacklist blackmail blackouts blacktops blameless blanching blandness blankness blanketed blarneyed blaspheme blasphemy blastoffs blastulas blatantly blathered blazoning bleaching bleachers bleariest blemished blemishes blenching blessings blighting blindness blindfold blistered blizzards blockings blockaded blockades blockages blockhead bloodiest bloodying bloodless bloodline bloodroot bloodshed bloodshot blossomed blotching blowhards blowholes blowpipes blowtorch blowziest bludgeons bluegrass bluenoses blueprint blundered blunderer bluntness blurriest blustered boardwalk boathouse boatloads boatswain bodyguard bodysurfs bogginess bohemians boldfaced boldfaces bolivians bollixing bolshevik bolstered boneheads bonhomies bonneting boohooing bookcases bookmaker bookmarks bookplate bookracks bookshelf bookstall bookstand bookstore bookworms boomerang boondocks bootjacks bootlicks bootstrap bordering bordellos borrowing borrowers boskiness bossiness bostonian botanists botanical bothering bottoming botulisms bouillons boulevard bounciest boundless bounteous bountiful bourgeois boutiques bowlegged bowsprits bowstring boycotted boyfriend bracelets bracketed braggarts braidings brainiest brainless brainpans brainwash brainwork branching brandying brashness brassiest brassiere brattiest bravadoes braveries brawniest brazilian breaching breakages breakdown breakfast breakneck breakouts breasting breathing breathers breathier breedings breeziest breezeway brevities breweries brickwork brickyard briefings briefcase brigadier brightest brightens brilliant brimstone briquette briskness brislings bristling bristlier britannia briticism broaching broadness broadaxes broadcast broadened broadleaf broadloom broadside broadtail brocading broccolis brochette brochures brokerage bromeliad bronchial bronchium broodiest broomcorn brotherly broughams brouhahas brownouts brunching brunettes brushwood brushwork brusquest brusquely brutality brutalize bryophyte buccaneer bucharest buckaroos bucketing buckshots buckskins buckteeth bucktooth buckwheat buddhists budgeting budgetary buffering buffaloes buffeting buildings bulginess bulgarian bulkiness bulkheads bulldozed bulldozer bulldozes bulletins bullfight bullfinch bullfrogs bullheads bullrings bullwhips bulrushes bulwarked bumpiness bumptious bungalows bungholes bunkhouse buntlines burdening burgeoned burgesses burliness burlesque burnished burnishes burnooses burrowing bushiness bushwhack butadiene butchered buttering buttercup butterfat butterfly butternut buttoning bypassing bystander byzantine\n",
      "----------------------------\n",
      "You have 6 guesses left\n",
      "Available letters: acdefghijklmnopqrstuvwxyz\n",
      "Please guess a letter: l\n",
      "Oops! That letter is not in my word: b_ _ _ _ _ _ _ _ \n",
      "----------------------------\n",
      "You have 5 guesses left\n",
      "Available letters: acdefghijkmnopqrstuvwxyz\n",
      "Please guess a letter: *\n",
      "Loading word list from file...\n",
      "   55900 words loaded.\n",
      "Possible word matches are:\n",
      "baccarats bacchanal bachelors bacillary backaches backdrops backfield backfired backfires backhands backorder backpacks backrests backsides backslash backslide backspace backspins backstage backstops backtrack backwards backwater backwoods backyards bacterial bacterium badgering badinages badminton badmouths bagatelle bagginess bagpipers baguettes bahamians bailiwick balalaika balancing balconies baldachin baldpates balkiness balladeer ballerina ballistic ballooned balloting ballrooms ballyhoos balminess baltimore balusters bandaging bandannas banderole bandicoot bandoleer bandstand bandwagon banishing banisters banjoists bankrolls bankrupts bannering banqueted banquette bantering baptismal baptizing barcarole barefaced bargained baritones barkeeper barnacles barnstorm barnyards barograph barometer barometry barouches barracuda barraging barreling barrettes barricade barrister bartender basements bashfully basically basilicas basilisks bassinets basswoods bastinado bathhouse batholith bathrooms battalion battening battering batteries bawdiness bayoneted beachhead beanpoles beanstalk beardless bearnaise bearskins beastlier beatified beatifies beatitude beauteous beautiful becalming beckoning beclouded becomings bedazzled bedazzles bedecking bedeviled bedfellow bedizened bedraggle bedridden bedspring bedspread bedsteads beechnuts beefiness beefsteak beekeeper befalling befitting befogging befouling befriends befuddled befuddles begetting begetters beggaring beginning beginners begirding begriming begrudged begrudges beguiling beguilers behaviors beheading behemoths beholding beholders behooving bejeweled belatedly beleaguer believing believers belittled belittles bellicose bellowing bellyache belonging belvedere bemoaning benchmark benefices benefited benighted benignity benignant benthoses benzoates bequeaths berceuses bereaving bergamots berkelium bernoulli beryllium beseeched beseeches beseeming besetting besieging besmeared besotting bespangle bespatter bespreads bestirred bestowing bestowals bestrewed bestrides betatrons bethought betokened betraying betrayers betrayals betrothal betrothed bettering beverages bewailing bewilders bewitched bewitches biathlons bicameral bickering biconcave bicuspids bicycling bicyclist bidentate biennials bifurcate bigamists bigotries bilateral bilingual billeting billfolds billhooks billiards billionth billowing bimonthly binderies bindweeds binnacles binocular binomials bioassays biography biologies biologist biorhythm biosphere bipartite birdcalls birdhouse birdlimes birdseeds birthdays birthmark birthrate bisecting bisection bisectors bisexuals bishopric bisulfate bitchiest bitterest bivalence bivalency bivalents bivouacks blackness blackcaps blackdamp blackened blackhead blackjack blacklist blackmail blackouts blacktops blameless blanching blandness blankness blanketed blarneyed blaspheme blasphemy blastoffs blastulas blatantly blathered blazoning bleaching bleachers bleariest blemished blemishes blenching blessings blighting blindness blindfold blistered blizzards blockings blockaded blockades blockages blockhead bloodiest bloodying bloodless bloodline bloodroot bloodshed bloodshot blossomed blotching blowhards blowholes blowpipes blowtorch blowziest bludgeons bluegrass bluenoses blueprint blundered blunderer bluntness blurriest blustered boardwalk boathouse boatloads boatswain bodyguard bodysurfs bogginess bohemians boldfaced boldfaces bolivians bollixing bolshevik bolstered boneheads bonhomies bonneting boohooing bookcases bookmaker bookmarks bookplate bookracks bookshelf bookstall bookstand bookstore bookworms boomerang boondocks bootjacks bootlicks bootstrap bordering bordellos borrowing borrowers boskiness bossiness bostonian botanists botanical bothering bottoming botulisms bouillons boulevard bounciest boundless bounteous bountiful bourgeois boutiques bowlegged bowsprits bowstring boycotted boyfriend bracelets bracketed braggarts braidings brainiest brainless brainpans brainwash brainwork branching brandying brashness brassiest brassiere brattiest bravadoes braveries brawniest brazilian breaching breakages breakdown breakfast breakneck breakouts breasting breathing breathers breathier breedings breeziest breezeway brevities breweries brickwork brickyard briefings briefcase brigadier brightest brightens brilliant brimstone briquette briskness brislings bristling bristlier britannia briticism broaching broadness broadaxes broadcast broadened broadleaf broadloom broadside broadtail brocading broccolis brochette brochures brokerage bromeliad bronchial bronchium broodiest broomcorn brotherly broughams brouhahas brownouts brunching brunettes brushwood brushwork brusquest brusquely brutality brutalize bryophyte buccaneer bucharest buckaroos bucketing buckshots buckskins buckteeth bucktooth buckwheat buddhists budgeting budgetary buffering buffaloes buffeting buildings bulginess bulgarian bulkiness bulkheads bulldozed bulldozer bulldozes bulletins bullfight bullfinch bullfrogs bullheads bullrings bullwhips bulrushes bulwarked bumpiness bumptious bungalows bungholes bunkhouse buntlines burdening burgeoned burgesses burliness burlesque burnished burnishes burnooses burrowing bushiness bushwhack butadiene butchered buttering buttercup butterfat butterfly butternut buttoning bypassing bystander byzantine\n",
      "----------------------------\n",
      "You have 5 guesses left\n",
      "Available letters: acdefghijkmnopqrstuvwxyz\n"
     ]
    },
    {
     "name": "stdout",
     "output_type": "stream",
     "text": [
      "Please guess a letter: r\n",
      "Oops! That letter is not in my word: b_ _ _ _ _ _ _ _ \n",
      "----------------------------\n",
      "You have 4 guesses left\n",
      "Available letters: acdefghijkmnopqstuvwxyz\n",
      "Please guess a letter: f\n",
      "Oops! That letter is not in my word: b_ _ _ _ _ _ _ _ \n",
      "----------------------------\n",
      "You have 3 guesses left\n",
      "Available letters: acdeghijkmnopqstuvwxyz\n",
      "Please guess a letter: s\n",
      "Good guess: b_ _ _ _ _ _ _ s\n",
      "----------------------------\n",
      "You have 3 guesses left\n",
      "Available letters: acdeghijkmnopqtuvwxyz\n",
      "Please guess a letter: *\n",
      "Loading word list from file...\n",
      "   55900 words loaded.\n",
      "Possible word matches are:\n",
      "baccarats bachelors backaches backdrops backfires backhands backpacks backwards backwoods backyards badinages badmouths bagpipers baguettes bahamians balconies baldpates ballrooms ballyhoos bandannas bankrolls bankrupts baritones barnacles barnyards barouches barrettes bathrooms batteries beanpoles beatifies beauteous becomings bedazzles beechnuts befriends befuddles begetters beginners begrudges beguilers behaviors behemoths beholders believers belittles benefices benzoates bequeaths bergamots betatrons betrayers betrayals beverages bewilders bewitches biathlons biennials bigotries billfolds billhooks billiards binderies bindweeds binnacles binomials biologies birdcalls birdlimes birthdays bivalents bivouacks blackcaps blackouts blacktops bleachers blizzards blockings blockades blockages blowhards blowholes blowpipes bludgeons boatloads bohemians boldfaces bolivians boneheads bonhomies bookmarks bookracks bookworms boondocks bootjacks bootlicks bordellos borrowers bouillons bounteous bourgeois boutiques bracelets braggarts braidings brainpans bravadoes braveries breakages breakouts breathers breedings brevities breweries briefings brightens broadaxes broccolis brochures broughams brouhahas brownouts brunettes buckaroos buffaloes buildings bulkheads bulldozes bulletins bullfrogs bullheads bullrings bullwhips bumptious bungalows bungholes buntlines\n",
      "----------------------------\n",
      "You have 3 guesses left\n",
      "Available letters: acdeghijkmnopqtuvwxyz\n",
      "Please guess a letter: k\n",
      "Oops! That letter is not in my word: b_ _ _ _ _ _ _ s\n",
      "----------------------------\n",
      "You have 2 guesses left\n",
      "Available letters: acdeghijmnopqtuvwxyz\n",
      "Please guess a letter: t\n",
      "Good guess: b_ _ _ _ _ _ ts\n",
      "----------------------------\n",
      "You have 2 guesses left\n",
      "Available letters: acdeghijmnopquvwxyz\n",
      "Please guess a letter: *\n",
      "Loading word list from file...\n",
      "   55900 words loaded.\n",
      "Possible word matches are:\n",
      "baccarats bankrupts beechnuts bergamots bivalents blackouts bracelets braggarts breakouts brownouts\n",
      "----------------------------\n",
      "You have 2 guesses left\n",
      "Available letters: acdeghijmnopquvwxyz\n",
      "Please guess a letter: g\n",
      "Oops! That letter is not in my word: b_ _ _ _ _ _ ts\n",
      "----------------------------\n",
      "You have 1 guesses left\n",
      "Available letters: acdehijmnopquvwxyz\n",
      "Please guess a letter: n\n",
      "Good guess: b_ _ _ _ n_ ts\n",
      "----------------------------\n",
      "You have 1 guesses left\n",
      "Available letters: acdehijmopquvwxyz\n",
      "Please guess a letter: *\n",
      "Loading word list from file...\n",
      "   55900 words loaded.\n",
      "Possible word matches are:\n",
      "beechnuts\n",
      "----------------------------\n",
      "You have 1 guesses left\n",
      "Available letters: acdehijmopquvwxyz\n",
      "Please guess a letter: u\n",
      "Good guess: b_ _ _ _ nuts\n",
      "----------------------------\n",
      "You have 1 guesses left\n",
      "Available letters: acdehijmopqvwxyz\n",
      "Please guess a letter: e\n",
      "Good guess: bee_ _ nuts\n",
      "----------------------------\n",
      "You have 1 guesses left\n",
      "Available letters: acdhijmopqvwxyz\n",
      "Please guess a letter: c\n",
      "Good guess: beec_ nuts\n",
      "----------------------------\n",
      "You have 1 guesses left\n",
      "Available letters: adhijmopqvwxyz\n",
      "Please guess a letter: h\n",
      "Good guess: beechnuts\n",
      "Congratulations, you won!\n",
      "Your total score for this game is: 8\n"
     ]
    }
   ],
   "source": [
    "secret_word = choose_word(wordlist)\n",
    "hangman_with_hints(secret_word)"
   ]
  },
  {
   "cell_type": "code",
   "execution_count": null,
   "metadata": {},
   "outputs": [],
   "source": []
  }
 ],
 "metadata": {
  "kernelspec": {
   "display_name": "Python 3",
   "language": "python",
   "name": "python3"
  },
  "language_info": {
   "codemirror_mode": {
    "name": "ipython",
    "version": 3
   },
   "file_extension": ".py",
   "mimetype": "text/x-python",
   "name": "python",
   "nbconvert_exporter": "python",
   "pygments_lexer": "ipython3",
   "version": "3.7.6"
  }
 },
 "nbformat": 4,
 "nbformat_minor": 4
}
